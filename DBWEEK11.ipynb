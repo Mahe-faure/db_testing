{
  "nbformat": 4,
  "nbformat_minor": 0,
  "metadata": {
    "colab": {
      "provenance": [],
      "authorship_tag": "ABX9TyMyShOSVGtWwr1fc51mf4LQ",
      "include_colab_link": true
    },
    "kernelspec": {
      "name": "python3",
      "display_name": "Python 3"
    },
    "language_info": {
      "name": "python"
    }
  },
  "cells": [
    {
      "cell_type": "markdown",
      "metadata": {
        "id": "view-in-github",
        "colab_type": "text"
      },
      "source": [
        "<a href=\"https://colab.research.google.com/github/Mahe-faure/db_testing/blob/main/DBWEEK11.ipynb\" target=\"_parent\"><img src=\"https://colab.research.google.com/assets/colab-badge.svg\" alt=\"Open In Colab\"/></a>"
      ]
    },
    {
      "cell_type": "code",
      "execution_count": 11,
      "metadata": {
        "colab": {
          "base_uri": "https://localhost:8080/"
        },
        "id": "-iPUGMJWA8vZ",
        "outputId": "7d577f00-5ded-4744-fdae-b4bb1a51fba5"
      },
      "outputs": [
        {
          "output_type": "stream",
          "name": "stdout",
          "text": [
            "Overwriting employee.py\n"
          ]
        }
      ],
      "source": [
        "%%writefile employee.py\n",
        "\n",
        "class Employee:\n",
        "    \"\"\"A sample Employee class\"\"\"\n",
        "\n",
        "    def __init__(self, first, last, pay):\n",
        "        self.first = first\n",
        "        self.last = last\n",
        "        self.pay = pay\n",
        "\n",
        "    @property\n",
        "    def email(self):\n",
        "        return '{}.{}@email.com'.format(self.first, self.last)\n",
        "\n",
        "    @property\n",
        "    def fullname(self):\n",
        "        return '{} {}'.format(self.first, self.last)\n",
        "\n",
        "    def __repr__(self):\n",
        "        return \"Employee('{}', '{}', {})\".format(self.first, self.last, self.pay)"
      ]
    },
    {
      "cell_type": "code",
      "source": [
        "import sqlite3\n",
        "from employee import Employee\n",
        "\n",
        "conn = sqlite3.connect('memory:')\n",
        "\n",
        "c = conn.cursor()\n",
        "\n",
        "c.execute(\"\"\"CREATE TABLE employees (\n",
        "            first text,\n",
        "            last text,\n",
        "            pay integer)\"\"\"\n",
        "            )\n",
        "\n",
        "def insert_emp(emp):\n",
        "  with conn:\n",
        "    c.execute(\"INSERT INTO employees VALUES (:first, :last, :pay)\", {'first': emp.first, 'last': emp.last, 'pay': emp.pay})\n",
        "\n",
        "def get_emps_by_name(lastname):\n",
        "  c.execute(\"SELECT * FROM employees\")\n",
        "  return c.fetchall()\n",
        "\n",
        "def get_all_emps():\n",
        "  c.execute(\"SELECT * FROM employees\")\n",
        "  return c.fetchall()\n",
        "\n",
        "def delete_all_emps():\n",
        "  c.execute(\"DELETE FROM employees\")\n",
        "  return c.fetchall()\n",
        "\n",
        "def update_pay(emp, pay):\n",
        "  with conn:\n",
        "    c.execute(\"\"\"UPDATE employees SET pay = :pay\n",
        "                WHERE first = :first AND last = :last\"\"\",\n",
        "                {'first': emp.first, 'last': emp.last, 'pay': pay})\n",
        "def remove_emp(emp):\n",
        "  with conn:\n",
        "    c.execute(\"DELETE from employees WHERE first = :first AND last = :last\",\n",
        "              {'first': emp.first, 'last': emp.last})\n",
        "\n",
        "emp_1 = Employee('John', 'Doe', 80000)\n",
        "emp_2 = Employee('Jane', 'Doe', 90000)\n",
        "emp_3 = Employee('Jane', 'Lee', 190000)\n",
        "emp_4 = Employee('Yuna', 'Kim', 190000)\n",
        "\n",
        "insert_emp(emp_1)\n",
        "insert_emp(emp_2)\n",
        "insert_emp(emp_3)\n",
        "insert_emp(emp_4)\n",
        "\n",
        "emps = get_emps_by_name('Doe')\n",
        "print(emps)\n",
        "\n",
        "emps1 = get_emps_by_name('Lee')\n",
        "print(emps1)\n",
        "\n",
        "update_pay(emp_2, 95000)\n",
        "remove_emp(emp_1)\n",
        "\n",
        "emps = get_emps_by_name('Doe')\n",
        "print(emps)\n",
        "\n",
        "all_emps = get_all_emps()\n",
        "print(all_emps)\n",
        "\n",
        "delete_all_emps()\n",
        "all_emps = get_all_emps()\n",
        "print(all_emps)\n",
        "\n",
        "conn.close()"
      ],
      "metadata": {
        "colab": {
          "base_uri": "https://localhost:8080/"
        },
        "id": "IQdTDGoyB_HR",
        "outputId": "5f66fa13-09ef-4caa-e706-80db4ca3a929"
      },
      "execution_count": 10,
      "outputs": [
        {
          "output_type": "stream",
          "name": "stdout",
          "text": [
            "[('John', 'Doe', 80000), ('Jane', 'Doe', 90000), ('Jane', 'Lee', 190000), ('Yuna', 'Kim', 190000)]\n",
            "[('John', 'Doe', 80000), ('Jane', 'Doe', 90000), ('Jane', 'Lee', 190000), ('Yuna', 'Kim', 190000)]\n",
            "[('Jane', 'Doe', 95000), ('Jane', 'Lee', 190000), ('Yuna', 'Kim', 190000)]\n",
            "[('Jane', 'Doe', 95000), ('Jane', 'Lee', 190000), ('Yuna', 'Kim', 190000)]\n",
            "[]\n"
          ]
        }
      ]
    }
  ]
}